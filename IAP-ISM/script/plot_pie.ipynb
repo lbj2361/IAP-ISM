{
  "cells": [
    {
      "cell_type": "code",
      "execution_count": 39,
      "metadata": {},
      "outputs": [],
      "source": [
        "import matplotlib.pyplot as plt\n",
        "import numpy as np\n",
        "import os\n",
        "os.chdir(\"/data2/share/hezhan/model/ice_sheet_model/myism/script\")"
      ]
    },
    {
      "cell_type": "code",
      "execution_count": 40,
      "metadata": {},
      "outputs": [],
      "source": [
        "import matplotlib.pyplot as plt\n",
        "import numpy as np\n",
        "\n",
        "# 设置新罗马字体\n",
        "plt.rcParams['font.family'] = 'Times New Roman'\n",
        "plt.rcParams['mathtext.fontset'] = 'stix'\n",
        "\n",
        "# 数据输入\n",
        "labels = ['Ocean expansion', 'Ice sheet &\\nglacier melt', 'Other']\n",
        "sizes = [50, 42, 8]\n",
        "colors = ['#2E5D87', '#4B8F41', '#666666']\n",
        "explode = (0.03, 0.03, 0)\n",
        "\n",
        "# 创建画布（调整为更紧凑的尺寸）\n",
        "fig = plt.figure(figsize=(4, 2), dpi=100)\n",
        "ax = fig.add_subplot(111)\n",
        "\n",
        "# 绘制饼图（隐藏默认标签）\n",
        "wedges, _, autotexts = ax.pie(\n",
        "    sizes,\n",
        "    explode=explode,\n",
        "    colors=colors,\n",
        "    labels=None,\n",
        "    startangle=90,\n",
        "    counterclock=False,\n",
        "    wedgeprops={'linewidth': 0.8, 'edgecolor': 'black'},\n",
        "    autopct='%.1f%%',\n",
        "    pctdistance=0.75,\n",
        "    textprops={'color': 'white', 'fontsize': 10, 'weight': 'bold'}\n",
        ")\n",
        "\n",
        "# 添加外部标签（带引导线）\n",
        "for i, wedge in enumerate(wedges):\n",
        "    # 计算引导线端点\n",
        "    ang = (wedge.theta2 + wedge.theta1)/2  # 扇形中心角度\n",
        "    x = 1.2 * np.cos(np.deg2rad(ang))     # 引导线终点x（饼图半径的1.2倍）\n",
        "    y = 1.2 * np.sin(np.deg2rad(ang))     # 引导线终点y\n",
        "    \n",
        "    # 水平对齐方式\n",
        "    ha = 'left' if ang < 180 else 'right'\n",
        "    \n",
        "    # 绘制引导线\n",
        "    ax.plot([0.7*np.cos(np.deg2rad(ang)), x], \n",
        "            [0.7*np.sin(np.deg2rad(ang)), y], \n",
        "            color='gray', linewidth=0.8, linestyle='--', alpha=0.7)\n",
        "    \n",
        "    # 添加外部标签\n",
        "    ax.text(\n",
        "        x*1.15, y*1.15, labels[i],  # 在引导线末端外侧添加标签\n",
        "        color='black',\n",
        "        ha=ha,\n",
        "        va='center',\n",
        "        fontsize=11,\n",
        "        linespacing=1.2\n",
        "    )\n",
        "\n",
        "plt.axis('equal')\n",
        "plt.tight_layout()\n",
        "plt.savefig('SeaLevelRise_external_labels.png', format='png', dpi=500, bbox_inches='tight')\n",
        "plt.close()"
      ]
    },
    {
      "cell_type": "code",
      "execution_count": null,
      "metadata": {},
      "outputs": [],
      "source": []
    }
  ],
  "metadata": {
    "kernelspec": {
      "display_name": "base",
      "language": "python",
      "name": "python3"
    },
    "language_info": {
      "codemirror_mode": {
        "name": "ipython",
        "version": 3
      },
      "file_extension": ".py",
      "mimetype": "text/x-python",
      "name": "python",
      "nbconvert_exporter": "python",
      "pygments_lexer": "ipython3",
      "version": "3.12.9"
    }
  },
  "nbformat": 4,
  "nbformat_minor": 2
}
